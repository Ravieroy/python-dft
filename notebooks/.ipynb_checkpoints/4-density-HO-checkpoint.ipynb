{
 "cells": [
  {
   "cell_type": "markdown",
   "id": "8b8b8d4a-967b-4219-9855-4e35fb93f577",
   "metadata": {},
   "source": [
    "## Density\n",
    "    V. How do you calculate the integral of a function on the grid? Normalize the states so they integrate to 1\n",
    "\n",
    "    VI. Calculate and plot the electron density for 6 electrons in the harmonic potential. Verify that the density integrates to 6 electrons."
   ]
  },
  {
   "cell_type": "markdown",
   "id": "8182317b-abab-4b76-a46f-bb153b979c30",
   "metadata": {},
   "source": [
    "Inorder to include both Coulomb or Hartree interaction as well as LDA exchange, both of which are density functionals, we need to calculate the electron density. If $\\psi(x)$ is the wavefunction, then the normalisation condition is given by, \n",
    "\n",
    "$$\\int |\\psi(x)|^2 dx = 1$$\n",
    "\n",
    "The electron density in DFT is given by,\n",
    "\n",
    "$$n(x) = \\sum_n f_n|\\psi(x)|^2$$\n",
    "\n",
    "Where, $f_n$ are the occupation numbers. "
   ]
  },
  {
   "cell_type": "code",
   "execution_count": 1,
   "id": "a272668d-d460-4d77-9158-1ebcd543fbff",
   "metadata": {},
   "outputs": [],
   "source": [
    "import numpy as np\n",
    "import matplotlib.pyplot as plt\n",
    "from scipy.sparse import diags\n",
    "from scipy.integrate import simps"
   ]
  },
  {
   "cell_type": "code",
   "execution_count": 2,
   "id": "2d2cb7ae-7c4f-4d0e-9198-e20a7ae73140",
   "metadata": {},
   "outputs": [],
   "source": [
    "def D(x, N=100):\n",
    "    '''\n",
    "    Returns the operator form of first-derivative\n",
    "\n",
    "            Parameters:\n",
    "                    x (array): grid of 1D array\n",
    "                    N (int): number of points on the grid\n",
    "\n",
    "            Returns:\n",
    "                    D (array): first-derivative operator\n",
    "    '''\n",
    "    h = x[1] - x[0]\n",
    "    k = [np.ones(N-1), -np.ones(N-1)]\n",
    "    offset = [1, -1]\n",
    "    D = diags(k, offset).toarray()\n",
    "    D = D/(2 * h)\n",
    "    # # Boundary values where it is not well defined\n",
    "    D[0, 0] = 0\n",
    "    D[0, 1] = 0\n",
    "    D[1, 0] = 0\n",
    "    D[N-1, N-2] = 0\n",
    "    D[N-2, N-1] = 0\n",
    "    D[N-1, N-1] = 0\n",
    "    return D\n",
    "\n",
    "\n",
    "def D2(x, N=100):\n",
    "    '''\n",
    "    Returns the operator form of second-derivative\n",
    "\n",
    "            Parameters:\n",
    "                    x (array): grid of 1D array\n",
    "                    N (int): number of points on the grid\n",
    "\n",
    "            Returns:\n",
    "                    D (array): first-derivative operator\n",
    "    '''\n",
    "    h = x[1] - x[0]\n",
    "    k1 = [np.ones(N-1), -2*np.ones(N), np.ones(N-1)]\n",
    "    offset = [-1, 0, 1]\n",
    "    D2 = diags(k1, offset).toarray()\n",
    "    D2 = D2/(h ** 2)\n",
    "    # Boundary values where it is not well defined\n",
    "    D2[0, 0] = 0\n",
    "    D2[0, 1] = 0\n",
    "    D2[1, 0] = 0\n",
    "    D2[N-1, N-2] = 0\n",
    "    D2[N-2, N-1] = 0\n",
    "    D2[N-1, N-1] = 0\n",
    "    return D2\n",
    "\n",
    "\n",
    "def normalise_psi(psi, x):\n",
    "    '''\n",
    "    Normalises the given wavefunction\n",
    "\n",
    "            Parameters:\n",
    "                    psi (array): wavefunction psi\n",
    "                    x (array): 1D grid of array\n",
    "\n",
    "            Returns:\n",
    "                    normalised psi\n",
    "    '''\n",
    "    int_psi_square = simps(abs(psi) ** 2, x)\n",
    "    return psi/np.sqrt(int_psi_square)\n",
    "\n",
    "\n",
    "def get_occupation_num(nElectron, maxElectron=2):\n",
    "    '''\n",
    "    Returns a list of occupation numbers for a given number of electrons\n",
    "\n",
    "            Parameters:\n",
    "                    nElectron (int): number of electrons\n",
    "                    maxElectron (int): max number of allowed elecrons in one state\n",
    "\n",
    "            Returns:\n",
    "                    fn (array): occupation number\n",
    "    '''\n",
    "    nFloor = np.floor_divide(nElectron, 2)\n",
    "    fn = maxElectron * np.ones(nFloor)\n",
    "    if nElectron % 2:\n",
    "        fn = np.append(fn, 1)\n",
    "    return fn\n",
    "\n",
    "\n",
    "def get_density(nElectron, psi, x):\n",
    "    '''\n",
    "    Returns electron density for a given number of electrona and wavefunction\n",
    "\n",
    "            Parameters:\n",
    "                    nElectron (int): number of electrons\n",
    "                    psi (array): wavefunction\n",
    "                    x (array): 1D grid of array\n",
    "\n",
    "            Returns:\n",
    "                    eDensity (array): electron density\n",
    "    '''\n",
    "    psiNorm = normalise_psi(psi, x)  # Normalisation\n",
    "    fn = get_occupation_num(nElectron)\n",
    "    eDensity = np.zeros(N)\n",
    "    for f_n, psi in zip(fn, psiNorm.T):\n",
    "        eDensity += f_n * (psi ** 2)\n",
    "    return eDensity\n",
    "\n",
    "\n",
    "def integrate(x, y):\n",
    "    '''\n",
    "    Returns the integration by simpson's method\n",
    "\n",
    "            Parameters:\n",
    "                    x (array): 1D grid of arra\n",
    "                    y (array): integrand\n",
    "\n",
    "            Returns:\n",
    "                    result (float): result of the integration\n",
    "    '''\n",
    "    result = simps(y, x)\n",
    "    return result"
   ]
  },
  {
   "cell_type": "code",
   "execution_count": 3,
   "id": "c93f8cfc-c7cc-40a5-b495-cebe84be38d6",
   "metadata": {},
   "outputs": [],
   "source": [
    "L = 5\n",
    "N = 200\n",
    "x = np.linspace(-L, L, N)\n",
    "X = np.diagflat(x*x)\n",
    "H = -D2(x, N)/2 + X\n",
    "E, V = np.linalg.eigh(H)\n",
    "psi = V\n",
    "nElectron = 6"
   ]
  },
  {
   "cell_type": "code",
   "execution_count": 4,
   "id": "292e1b7b-b074-4074-9eb0-6465ac6dbff9",
   "metadata": {},
   "outputs": [
    {
     "data": {
      "image/png": "[encoded data removed]",
      "text/plain": [
       "<Figure size 640x480 with 1 Axes>"
      ]
     },
     "metadata": {},
     "output_type": "display_data"
    }
   ],
   "source": [
    "density = get_density(nElectron, psi, x)\n",
    "plt.plot(density, label=\"Harmonic Potential\")\n",
    "plt.xlabel(\"x\")\n",
    "plt.ylabel(\"n(x)\")\n",
    "plt.legend()\n",
    "plt.show()"
   ]
  },
  {
   "cell_type": "code",
   "execution_count": 5,
   "id": "6faac8fb-25eb-48b3-afd0-4ad262e43de0",
   "metadata": {},
   "outputs": [
    {
     "data": {
      "text/plain": [
       "6.005378396499321"
      ]
     },
     "execution_count": 5,
     "metadata": {},
     "output_type": "execute_result"
    }
   ],
   "source": [
    "#  Verify that the density integrates to n electrons.\n",
    "integrate(x, density)"
   ]
  }
 ],
 "metadata": {
  "kernelspec": {
   "display_name": "Python 3 (ipykernel)",
   "language": "python",
   "name": "python3"
  },
  "language_info": {
   "codemirror_mode": {
    "name": "ipython",
    "version": 3
   },
   "file_extension": ".py",
   "mimetype": "text/x-python",
   "name": "python",
   "nbconvert_exporter": "python",
   "pygments_lexer": "ipython3",
   "version": "3.10.8"
  }
 },
 "nbformat": 4,
 "nbformat_minor": 5
}
